{
  "nbformat": 4,
  "nbformat_minor": 0,
  "metadata": {
    "colab": {
      "provenance": [],
      "authorship_tag": "ABX9TyOEp+Md1mp5y072okT3Irwr",
      "include_colab_link": true
    },
    "kernelspec": {
      "name": "python3",
      "display_name": "Python 3"
    },
    "language_info": {
      "name": "python"
    }
  },
  "cells": [
    {
      "cell_type": "markdown",
      "metadata": {
        "id": "view-in-github",
        "colab_type": "text"
      },
      "source": [
        "<a href=\"https://colab.research.google.com/github/joshimohitm9/Deep_Learning/blob/main/Graduate_Admission_Prediction_using_ANN.ipynb\" target=\"_parent\"><img src=\"https://colab.research.google.com/assets/colab-badge.svg\" alt=\"Open In Colab\"/></a>"
      ]
    },
    {
      "cell_type": "code",
      "execution_count": 1,
      "metadata": {
        "id": "RqsCilPLR42p"
      },
      "outputs": [],
      "source": [
        "import pandas as pd"
      ]
    },
    {
      "cell_type": "code",
      "source": [
        "df=pd.read_csv(\"/content/Admission_Predict_Ver1.1.csv\")\n",
        "df.sample(5)"
      ],
      "metadata": {
        "colab": {
          "base_uri": "https://localhost:8080/",
          "height": 206
        },
        "id": "MwEOMwnNScpE",
        "outputId": "b055469c-1bba-41a3-f2f9-2ea97a371cd0"
      },
      "execution_count": 3,
      "outputs": [
        {
          "output_type": "execute_result",
          "data": {
            "text/plain": [
              "     Serial No.  GRE Score  TOEFL Score  University Rating  SOP  LOR   CGPA  \\\n",
              "218         219        324          110                  4  3.0   3.5  8.97   \n",
              "312         313        311          107                  4  4.5   4.5  9.00   \n",
              "24           25        336          119                  5  4.0   3.5  9.80   \n",
              "475         476        300          101                  3  3.5   2.5  7.88   \n",
              "146         147        315          105                  3  2.0   2.5  8.48   \n",
              "\n",
              "     Research  Chance of Admit   \n",
              "218         1              0.84  \n",
              "312         1              0.78  \n",
              "24          1              0.97  \n",
              "475         0              0.59  \n",
              "146         0              0.75  "
            ],
            "text/html": [
              "\n",
              "  <div id=\"df-af82819d-ab51-491f-bba6-26829fe6b416\" class=\"colab-df-container\">\n",
              "    <div>\n",
              "<style scoped>\n",
              "    .dataframe tbody tr th:only-of-type {\n",
              "        vertical-align: middle;\n",
              "    }\n",
              "\n",
              "    .dataframe tbody tr th {\n",
              "        vertical-align: top;\n",
              "    }\n",
              "\n",
              "    .dataframe thead th {\n",
              "        text-align: right;\n",
              "    }\n",
              "</style>\n",
              "<table border=\"1\" class=\"dataframe\">\n",
              "  <thead>\n",
              "    <tr style=\"text-align: right;\">\n",
              "      <th></th>\n",
              "      <th>Serial No.</th>\n",
              "      <th>GRE Score</th>\n",
              "      <th>TOEFL Score</th>\n",
              "      <th>University Rating</th>\n",
              "      <th>SOP</th>\n",
              "      <th>LOR</th>\n",
              "      <th>CGPA</th>\n",
              "      <th>Research</th>\n",
              "      <th>Chance of Admit</th>\n",
              "    </tr>\n",
              "  </thead>\n",
              "  <tbody>\n",
              "    <tr>\n",
              "      <th>218</th>\n",
              "      <td>219</td>\n",
              "      <td>324</td>\n",
              "      <td>110</td>\n",
              "      <td>4</td>\n",
              "      <td>3.0</td>\n",
              "      <td>3.5</td>\n",
              "      <td>8.97</td>\n",
              "      <td>1</td>\n",
              "      <td>0.84</td>\n",
              "    </tr>\n",
              "    <tr>\n",
              "      <th>312</th>\n",
              "      <td>313</td>\n",
              "      <td>311</td>\n",
              "      <td>107</td>\n",
              "      <td>4</td>\n",
              "      <td>4.5</td>\n",
              "      <td>4.5</td>\n",
              "      <td>9.00</td>\n",
              "      <td>1</td>\n",
              "      <td>0.78</td>\n",
              "    </tr>\n",
              "    <tr>\n",
              "      <th>24</th>\n",
              "      <td>25</td>\n",
              "      <td>336</td>\n",
              "      <td>119</td>\n",
              "      <td>5</td>\n",
              "      <td>4.0</td>\n",
              "      <td>3.5</td>\n",
              "      <td>9.80</td>\n",
              "      <td>1</td>\n",
              "      <td>0.97</td>\n",
              "    </tr>\n",
              "    <tr>\n",
              "      <th>475</th>\n",
              "      <td>476</td>\n",
              "      <td>300</td>\n",
              "      <td>101</td>\n",
              "      <td>3</td>\n",
              "      <td>3.5</td>\n",
              "      <td>2.5</td>\n",
              "      <td>7.88</td>\n",
              "      <td>0</td>\n",
              "      <td>0.59</td>\n",
              "    </tr>\n",
              "    <tr>\n",
              "      <th>146</th>\n",
              "      <td>147</td>\n",
              "      <td>315</td>\n",
              "      <td>105</td>\n",
              "      <td>3</td>\n",
              "      <td>2.0</td>\n",
              "      <td>2.5</td>\n",
              "      <td>8.48</td>\n",
              "      <td>0</td>\n",
              "      <td>0.75</td>\n",
              "    </tr>\n",
              "  </tbody>\n",
              "</table>\n",
              "</div>\n",
              "    <div class=\"colab-df-buttons\">\n",
              "\n",
              "  <div class=\"colab-df-container\">\n",
              "    <button class=\"colab-df-convert\" onclick=\"convertToInteractive('df-af82819d-ab51-491f-bba6-26829fe6b416')\"\n",
              "            title=\"Convert this dataframe to an interactive table.\"\n",
              "            style=\"display:none;\">\n",
              "\n",
              "  <svg xmlns=\"http://www.w3.org/2000/svg\" height=\"24px\" viewBox=\"0 -960 960 960\">\n",
              "    <path d=\"M120-120v-720h720v720H120Zm60-500h600v-160H180v160Zm220 220h160v-160H400v160Zm0 220h160v-160H400v160ZM180-400h160v-160H180v160Zm440 0h160v-160H620v160ZM180-180h160v-160H180v160Zm440 0h160v-160H620v160Z\"/>\n",
              "  </svg>\n",
              "    </button>\n",
              "\n",
              "  <style>\n",
              "    .colab-df-container {\n",
              "      display:flex;\n",
              "      gap: 12px;\n",
              "    }\n",
              "\n",
              "    .colab-df-convert {\n",
              "      background-color: #E8F0FE;\n",
              "      border: none;\n",
              "      border-radius: 50%;\n",
              "      cursor: pointer;\n",
              "      display: none;\n",
              "      fill: #1967D2;\n",
              "      height: 32px;\n",
              "      padding: 0 0 0 0;\n",
              "      width: 32px;\n",
              "    }\n",
              "\n",
              "    .colab-df-convert:hover {\n",
              "      background-color: #E2EBFA;\n",
              "      box-shadow: 0px 1px 2px rgba(60, 64, 67, 0.3), 0px 1px 3px 1px rgba(60, 64, 67, 0.15);\n",
              "      fill: #174EA6;\n",
              "    }\n",
              "\n",
              "    .colab-df-buttons div {\n",
              "      margin-bottom: 4px;\n",
              "    }\n",
              "\n",
              "    [theme=dark] .colab-df-convert {\n",
              "      background-color: #3B4455;\n",
              "      fill: #D2E3FC;\n",
              "    }\n",
              "\n",
              "    [theme=dark] .colab-df-convert:hover {\n",
              "      background-color: #434B5C;\n",
              "      box-shadow: 0px 1px 3px 1px rgba(0, 0, 0, 0.15);\n",
              "      filter: drop-shadow(0px 1px 2px rgba(0, 0, 0, 0.3));\n",
              "      fill: #FFFFFF;\n",
              "    }\n",
              "  </style>\n",
              "\n",
              "    <script>\n",
              "      const buttonEl =\n",
              "        document.querySelector('#df-af82819d-ab51-491f-bba6-26829fe6b416 button.colab-df-convert');\n",
              "      buttonEl.style.display =\n",
              "        google.colab.kernel.accessAllowed ? 'block' : 'none';\n",
              "\n",
              "      async function convertToInteractive(key) {\n",
              "        const element = document.querySelector('#df-af82819d-ab51-491f-bba6-26829fe6b416');\n",
              "        const dataTable =\n",
              "          await google.colab.kernel.invokeFunction('convertToInteractive',\n",
              "                                                    [key], {});\n",
              "        if (!dataTable) return;\n",
              "\n",
              "        const docLinkHtml = 'Like what you see? Visit the ' +\n",
              "          '<a target=\"_blank\" href=https://colab.research.google.com/notebooks/data_table.ipynb>data table notebook</a>'\n",
              "          + ' to learn more about interactive tables.';\n",
              "        element.innerHTML = '';\n",
              "        dataTable['output_type'] = 'display_data';\n",
              "        await google.colab.output.renderOutput(dataTable, element);\n",
              "        const docLink = document.createElement('div');\n",
              "        docLink.innerHTML = docLinkHtml;\n",
              "        element.appendChild(docLink);\n",
              "      }\n",
              "    </script>\n",
              "  </div>\n",
              "\n",
              "\n",
              "<div id=\"df-6e3a9841-2309-4f5b-b723-56a527fca117\">\n",
              "  <button class=\"colab-df-quickchart\" onclick=\"quickchart('df-6e3a9841-2309-4f5b-b723-56a527fca117')\"\n",
              "            title=\"Suggest charts\"\n",
              "            style=\"display:none;\">\n",
              "\n",
              "<svg xmlns=\"http://www.w3.org/2000/svg\" height=\"24px\"viewBox=\"0 0 24 24\"\n",
              "     width=\"24px\">\n",
              "    <g>\n",
              "        <path d=\"M19 3H5c-1.1 0-2 .9-2 2v14c0 1.1.9 2 2 2h14c1.1 0 2-.9 2-2V5c0-1.1-.9-2-2-2zM9 17H7v-7h2v7zm4 0h-2V7h2v10zm4 0h-2v-4h2v4z\"/>\n",
              "    </g>\n",
              "</svg>\n",
              "  </button>\n",
              "\n",
              "<style>\n",
              "  .colab-df-quickchart {\n",
              "      --bg-color: #E8F0FE;\n",
              "      --fill-color: #1967D2;\n",
              "      --hover-bg-color: #E2EBFA;\n",
              "      --hover-fill-color: #174EA6;\n",
              "      --disabled-fill-color: #AAA;\n",
              "      --disabled-bg-color: #DDD;\n",
              "  }\n",
              "\n",
              "  [theme=dark] .colab-df-quickchart {\n",
              "      --bg-color: #3B4455;\n",
              "      --fill-color: #D2E3FC;\n",
              "      --hover-bg-color: #434B5C;\n",
              "      --hover-fill-color: #FFFFFF;\n",
              "      --disabled-bg-color: #3B4455;\n",
              "      --disabled-fill-color: #666;\n",
              "  }\n",
              "\n",
              "  .colab-df-quickchart {\n",
              "    background-color: var(--bg-color);\n",
              "    border: none;\n",
              "    border-radius: 50%;\n",
              "    cursor: pointer;\n",
              "    display: none;\n",
              "    fill: var(--fill-color);\n",
              "    height: 32px;\n",
              "    padding: 0;\n",
              "    width: 32px;\n",
              "  }\n",
              "\n",
              "  .colab-df-quickchart:hover {\n",
              "    background-color: var(--hover-bg-color);\n",
              "    box-shadow: 0 1px 2px rgba(60, 64, 67, 0.3), 0 1px 3px 1px rgba(60, 64, 67, 0.15);\n",
              "    fill: var(--button-hover-fill-color);\n",
              "  }\n",
              "\n",
              "  .colab-df-quickchart-complete:disabled,\n",
              "  .colab-df-quickchart-complete:disabled:hover {\n",
              "    background-color: var(--disabled-bg-color);\n",
              "    fill: var(--disabled-fill-color);\n",
              "    box-shadow: none;\n",
              "  }\n",
              "\n",
              "  .colab-df-spinner {\n",
              "    border: 2px solid var(--fill-color);\n",
              "    border-color: transparent;\n",
              "    border-bottom-color: var(--fill-color);\n",
              "    animation:\n",
              "      spin 1s steps(1) infinite;\n",
              "  }\n",
              "\n",
              "  @keyframes spin {\n",
              "    0% {\n",
              "      border-color: transparent;\n",
              "      border-bottom-color: var(--fill-color);\n",
              "      border-left-color: var(--fill-color);\n",
              "    }\n",
              "    20% {\n",
              "      border-color: transparent;\n",
              "      border-left-color: var(--fill-color);\n",
              "      border-top-color: var(--fill-color);\n",
              "    }\n",
              "    30% {\n",
              "      border-color: transparent;\n",
              "      border-left-color: var(--fill-color);\n",
              "      border-top-color: var(--fill-color);\n",
              "      border-right-color: var(--fill-color);\n",
              "    }\n",
              "    40% {\n",
              "      border-color: transparent;\n",
              "      border-right-color: var(--fill-color);\n",
              "      border-top-color: var(--fill-color);\n",
              "    }\n",
              "    60% {\n",
              "      border-color: transparent;\n",
              "      border-right-color: var(--fill-color);\n",
              "    }\n",
              "    80% {\n",
              "      border-color: transparent;\n",
              "      border-right-color: var(--fill-color);\n",
              "      border-bottom-color: var(--fill-color);\n",
              "    }\n",
              "    90% {\n",
              "      border-color: transparent;\n",
              "      border-bottom-color: var(--fill-color);\n",
              "    }\n",
              "  }\n",
              "</style>\n",
              "\n",
              "  <script>\n",
              "    async function quickchart(key) {\n",
              "      const quickchartButtonEl =\n",
              "        document.querySelector('#' + key + ' button');\n",
              "      quickchartButtonEl.disabled = true;  // To prevent multiple clicks.\n",
              "      quickchartButtonEl.classList.add('colab-df-spinner');\n",
              "      try {\n",
              "        const charts = await google.colab.kernel.invokeFunction(\n",
              "            'suggestCharts', [key], {});\n",
              "      } catch (error) {\n",
              "        console.error('Error during call to suggestCharts:', error);\n",
              "      }\n",
              "      quickchartButtonEl.classList.remove('colab-df-spinner');\n",
              "      quickchartButtonEl.classList.add('colab-df-quickchart-complete');\n",
              "    }\n",
              "    (() => {\n",
              "      let quickchartButtonEl =\n",
              "        document.querySelector('#df-6e3a9841-2309-4f5b-b723-56a527fca117 button');\n",
              "      quickchartButtonEl.style.display =\n",
              "        google.colab.kernel.accessAllowed ? 'block' : 'none';\n",
              "    })();\n",
              "  </script>\n",
              "</div>\n",
              "\n",
              "    </div>\n",
              "  </div>\n"
            ],
            "application/vnd.google.colaboratory.intrinsic+json": {
              "type": "dataframe",
              "summary": "{\n  \"name\": \"df\",\n  \"rows\": 5,\n  \"fields\": [\n    {\n      \"column\": \"Serial No.\",\n      \"properties\": {\n        \"dtype\": \"number\",\n        \"std\": 170,\n        \"min\": 25,\n        \"max\": 476,\n        \"num_unique_values\": 5,\n        \"samples\": [\n          313,\n          147,\n          25\n        ],\n        \"semantic_type\": \"\",\n        \"description\": \"\"\n      }\n    },\n    {\n      \"column\": \"GRE Score\",\n      \"properties\": {\n        \"dtype\": \"number\",\n        \"std\": 13,\n        \"min\": 300,\n        \"max\": 336,\n        \"num_unique_values\": 5,\n        \"samples\": [\n          311,\n          315,\n          336\n        ],\n        \"semantic_type\": \"\",\n        \"description\": \"\"\n      }\n    },\n    {\n      \"column\": \"TOEFL Score\",\n      \"properties\": {\n        \"dtype\": \"number\",\n        \"std\": 6,\n        \"min\": 101,\n        \"max\": 119,\n        \"num_unique_values\": 5,\n        \"samples\": [\n          107,\n          105,\n          119\n        ],\n        \"semantic_type\": \"\",\n        \"description\": \"\"\n      }\n    },\n    {\n      \"column\": \"University Rating\",\n      \"properties\": {\n        \"dtype\": \"number\",\n        \"std\": 0,\n        \"min\": 3,\n        \"max\": 5,\n        \"num_unique_values\": 3,\n        \"samples\": [\n          4,\n          5,\n          3\n        ],\n        \"semantic_type\": \"\",\n        \"description\": \"\"\n      }\n    },\n    {\n      \"column\": \"SOP\",\n      \"properties\": {\n        \"dtype\": \"number\",\n        \"std\": 0.9617692030835673,\n        \"min\": 2.0,\n        \"max\": 4.5,\n        \"num_unique_values\": 5,\n        \"samples\": [\n          4.5,\n          2.0,\n          4.0\n        ],\n        \"semantic_type\": \"\",\n        \"description\": \"\"\n      }\n    },\n    {\n      \"column\": \"LOR \",\n      \"properties\": {\n        \"dtype\": \"number\",\n        \"std\": 0.8366600265340756,\n        \"min\": 2.5,\n        \"max\": 4.5,\n        \"num_unique_values\": 3,\n        \"samples\": [\n          3.5,\n          4.5,\n          2.5\n        ],\n        \"semantic_type\": \"\",\n        \"description\": \"\"\n      }\n    },\n    {\n      \"column\": \"CGPA\",\n      \"properties\": {\n        \"dtype\": \"number\",\n        \"std\": 0.7096337083312774,\n        \"min\": 7.88,\n        \"max\": 9.8,\n        \"num_unique_values\": 5,\n        \"samples\": [\n          9.0,\n          8.48,\n          9.8\n        ],\n        \"semantic_type\": \"\",\n        \"description\": \"\"\n      }\n    },\n    {\n      \"column\": \"Research\",\n      \"properties\": {\n        \"dtype\": \"number\",\n        \"std\": 0,\n        \"min\": 0,\n        \"max\": 1,\n        \"num_unique_values\": 2,\n        \"samples\": [\n          0,\n          1\n        ],\n        \"semantic_type\": \"\",\n        \"description\": \"\"\n      }\n    },\n    {\n      \"column\": \"Chance of Admit \",\n      \"properties\": {\n        \"dtype\": \"number\",\n        \"std\": 0.13831124321616084,\n        \"min\": 0.59,\n        \"max\": 0.97,\n        \"num_unique_values\": 5,\n        \"samples\": [\n          0.78,\n          0.75\n        ],\n        \"semantic_type\": \"\",\n        \"description\": \"\"\n      }\n    }\n  ]\n}"
            }
          },
          "metadata": {},
          "execution_count": 3
        }
      ]
    },
    {
      "cell_type": "code",
      "source": [
        "df.info()"
      ],
      "metadata": {
        "colab": {
          "base_uri": "https://localhost:8080/"
        },
        "id": "xGaRilB2ShOJ",
        "outputId": "ab7a274c-127f-464e-849c-42679bf58d55"
      },
      "execution_count": 4,
      "outputs": [
        {
          "output_type": "stream",
          "name": "stdout",
          "text": [
            "<class 'pandas.core.frame.DataFrame'>\n",
            "RangeIndex: 500 entries, 0 to 499\n",
            "Data columns (total 9 columns):\n",
            " #   Column             Non-Null Count  Dtype  \n",
            "---  ------             --------------  -----  \n",
            " 0   Serial No.         500 non-null    int64  \n",
            " 1   GRE Score          500 non-null    int64  \n",
            " 2   TOEFL Score        500 non-null    int64  \n",
            " 3   University Rating  500 non-null    int64  \n",
            " 4   SOP                500 non-null    float64\n",
            " 5   LOR                500 non-null    float64\n",
            " 6   CGPA               500 non-null    float64\n",
            " 7   Research           500 non-null    int64  \n",
            " 8   Chance of Admit    500 non-null    float64\n",
            "dtypes: float64(4), int64(5)\n",
            "memory usage: 35.3 KB\n"
          ]
        }
      ]
    },
    {
      "cell_type": "code",
      "source": [
        "df.shape"
      ],
      "metadata": {
        "colab": {
          "base_uri": "https://localhost:8080/"
        },
        "id": "G4gBAWu0Sj4X",
        "outputId": "73e15dfc-aaa0-4929-c242-a8687130ad5b"
      },
      "execution_count": 5,
      "outputs": [
        {
          "output_type": "execute_result",
          "data": {
            "text/plain": [
              "(500, 9)"
            ]
          },
          "metadata": {},
          "execution_count": 5
        }
      ]
    },
    {
      "cell_type": "code",
      "source": [
        "df.drop(columns=[\"Serial No.\"],inplace=True)"
      ],
      "metadata": {
        "id": "yUcrj8zkfwBD"
      },
      "execution_count": 6,
      "outputs": []
    },
    {
      "cell_type": "code",
      "source": [
        "from sklearn.model_selection  import train_test_split"
      ],
      "metadata": {
        "id": "W4xLsawwUDc0"
      },
      "execution_count": 7,
      "outputs": []
    },
    {
      "cell_type": "code",
      "source": [
        "x=df.iloc[:,:-1]\n",
        "y=df[\"Chance of Admit \"]"
      ],
      "metadata": {
        "id": "6OzzLkoNUUBh"
      },
      "execution_count": 8,
      "outputs": []
    },
    {
      "cell_type": "code",
      "source": [
        "x_train,x_test,y_train,y_test=train_test_split(x,y,random_state=21,test_size=0.2)"
      ],
      "metadata": {
        "id": "WsO-ZMhnUc5v"
      },
      "execution_count": 9,
      "outputs": []
    },
    {
      "cell_type": "code",
      "source": [
        "x_train.shape,y_train.shape"
      ],
      "metadata": {
        "colab": {
          "base_uri": "https://localhost:8080/"
        },
        "id": "6Ega-c2fVOye",
        "outputId": "8ca12257-ac01-46eb-908c-2b39eec80a6d"
      },
      "execution_count": 10,
      "outputs": [
        {
          "output_type": "execute_result",
          "data": {
            "text/plain": [
              "((400, 7), (400,))"
            ]
          },
          "metadata": {},
          "execution_count": 10
        }
      ]
    },
    {
      "cell_type": "code",
      "source": [
        "from sklearn.preprocessing import MinMaxScaler"
      ],
      "metadata": {
        "id": "-H731_9kVPt6"
      },
      "execution_count": 11,
      "outputs": []
    },
    {
      "cell_type": "code",
      "source": [
        "scaler=MinMaxScaler()\n",
        "\n",
        "x_train_scaled=scaler.fit_transform(x_train)\n",
        "x_test_scaled=scaler.fit_transform(x_test)"
      ],
      "metadata": {
        "id": "nnwKmcpqiJEy"
      },
      "execution_count": 12,
      "outputs": []
    },
    {
      "cell_type": "code",
      "source": [
        "import tensorflow\n",
        "from tensorflow import keras\n",
        "from tensorflow.keras import Sequential\n",
        "from tensorflow.keras.layers import Dense"
      ],
      "metadata": {
        "id": "IFGfrZepiy-w"
      },
      "execution_count": 13,
      "outputs": []
    },
    {
      "cell_type": "code",
      "source": [
        "model=Sequential()\n",
        "model.add(Dense(7,activation=\"relu\",input_dim=7))\n",
        "\n",
        "model.add(Dense(5,activation=\"relu\"))\n",
        "\n",
        "model.add(Dense(3,activation=\"relu\"))\n",
        "\n",
        "\n",
        "model.add(Dense(1,activation=\"linear\"))"
      ],
      "metadata": {
        "id": "-b_ote5Rj0cO"
      },
      "execution_count": 60,
      "outputs": []
    },
    {
      "cell_type": "code",
      "source": [
        "model.summary()"
      ],
      "metadata": {
        "colab": {
          "base_uri": "https://localhost:8080/"
        },
        "id": "O0Ntt480kObb",
        "outputId": "d1975c01-31c6-49cf-86cf-bfd4362d9a35"
      },
      "execution_count": 61,
      "outputs": [
        {
          "output_type": "stream",
          "name": "stdout",
          "text": [
            "Model: \"sequential_8\"\n",
            "_________________________________________________________________\n",
            " Layer (type)                Output Shape              Param #   \n",
            "=================================================================\n",
            " dense_22 (Dense)            (None, 7)                 56        \n",
            "                                                                 \n",
            " dense_23 (Dense)            (None, 5)                 40        \n",
            "                                                                 \n",
            " dense_24 (Dense)            (None, 3)                 18        \n",
            "                                                                 \n",
            " dense_25 (Dense)            (None, 1)                 4         \n",
            "                                                                 \n",
            "=================================================================\n",
            "Total params: 118 (472.00 Byte)\n",
            "Trainable params: 118 (472.00 Byte)\n",
            "Non-trainable params: 0 (0.00 Byte)\n",
            "_________________________________________________________________\n"
          ]
        }
      ]
    },
    {
      "cell_type": "code",
      "source": [
        "\n",
        "model.compile(loss=\"mean_squared_error\",optimizer=\"Adam\",metrics=[\"Accuracy\"])"
      ],
      "metadata": {
        "id": "f8vbtCHLko9l"
      },
      "execution_count": 62,
      "outputs": []
    },
    {
      "cell_type": "code",
      "source": [
        "history= model.fit(x_train_scaled,y_train,epochs=100,validation_split=0.2)"
      ],
      "metadata": {
        "colab": {
          "base_uri": "https://localhost:8080/"
        },
        "id": "2kWD14p1lAhq",
        "outputId": "92d2da70-0628-4d8b-a703-acedbf24da66"
      },
      "execution_count": 63,
      "outputs": [
        {
          "output_type": "stream",
          "name": "stdout",
          "text": [
            "Epoch 1/100\n",
            "10/10 [==============================] - 1s 27ms/step - loss: 0.2366 - Accuracy: 0.0000e+00 - val_loss: 0.2111 - val_Accuracy: 0.0000e+00\n",
            "Epoch 2/100\n",
            "10/10 [==============================] - 0s 5ms/step - loss: 0.1709 - Accuracy: 0.0000e+00 - val_loss: 0.1502 - val_Accuracy: 0.0000e+00\n",
            "Epoch 3/100\n",
            "10/10 [==============================] - 0s 6ms/step - loss: 0.1127 - Accuracy: 0.0000e+00 - val_loss: 0.0992 - val_Accuracy: 0.0000e+00\n",
            "Epoch 4/100\n",
            "10/10 [==============================] - 0s 7ms/step - loss: 0.0690 - Accuracy: 0.0000e+00 - val_loss: 0.0625 - val_Accuracy: 0.0000e+00\n",
            "Epoch 5/100\n",
            "10/10 [==============================] - 0s 7ms/step - loss: 0.0413 - Accuracy: 0.0000e+00 - val_loss: 0.0420 - val_Accuracy: 0.0000e+00\n",
            "Epoch 6/100\n",
            "10/10 [==============================] - 0s 7ms/step - loss: 0.0291 - Accuracy: 0.0000e+00 - val_loss: 0.0333 - val_Accuracy: 0.0000e+00\n",
            "Epoch 7/100\n",
            "10/10 [==============================] - 0s 7ms/step - loss: 0.0254 - Accuracy: 0.0000e+00 - val_loss: 0.0302 - val_Accuracy: 0.0000e+00\n",
            "Epoch 8/100\n",
            "10/10 [==============================] - 0s 7ms/step - loss: 0.0243 - Accuracy: 0.0000e+00 - val_loss: 0.0285 - val_Accuracy: 0.0000e+00\n",
            "Epoch 9/100\n",
            "10/10 [==============================] - 0s 6ms/step - loss: 0.0232 - Accuracy: 0.0000e+00 - val_loss: 0.0272 - val_Accuracy: 0.0000e+00\n",
            "Epoch 10/100\n",
            "10/10 [==============================] - 0s 6ms/step - loss: 0.0220 - Accuracy: 0.0000e+00 - val_loss: 0.0260 - val_Accuracy: 0.0000e+00\n",
            "Epoch 11/100\n",
            "10/10 [==============================] - 0s 8ms/step - loss: 0.0207 - Accuracy: 0.0000e+00 - val_loss: 0.0247 - val_Accuracy: 0.0000e+00\n",
            "Epoch 12/100\n",
            "10/10 [==============================] - 0s 6ms/step - loss: 0.0194 - Accuracy: 0.0000e+00 - val_loss: 0.0231 - val_Accuracy: 0.0000e+00\n",
            "Epoch 13/100\n",
            "10/10 [==============================] - 0s 6ms/step - loss: 0.0176 - Accuracy: 0.0000e+00 - val_loss: 0.0206 - val_Accuracy: 0.0000e+00\n",
            "Epoch 14/100\n",
            "10/10 [==============================] - 0s 6ms/step - loss: 0.0152 - Accuracy: 0.0000e+00 - val_loss: 0.0182 - val_Accuracy: 0.0000e+00\n",
            "Epoch 15/100\n",
            "10/10 [==============================] - 0s 6ms/step - loss: 0.0130 - Accuracy: 0.0000e+00 - val_loss: 0.0157 - val_Accuracy: 0.0000e+00\n",
            "Epoch 16/100\n",
            "10/10 [==============================] - 0s 5ms/step - loss: 0.0112 - Accuracy: 0.0000e+00 - val_loss: 0.0133 - val_Accuracy: 0.0000e+00\n",
            "Epoch 17/100\n",
            "10/10 [==============================] - 0s 7ms/step - loss: 0.0099 - Accuracy: 0.0000e+00 - val_loss: 0.0114 - val_Accuracy: 0.0000e+00\n",
            "Epoch 18/100\n",
            "10/10 [==============================] - 0s 5ms/step - loss: 0.0089 - Accuracy: 0.0000e+00 - val_loss: 0.0102 - val_Accuracy: 0.0000e+00\n",
            "Epoch 19/100\n",
            "10/10 [==============================] - 0s 6ms/step - loss: 0.0083 - Accuracy: 0.0000e+00 - val_loss: 0.0089 - val_Accuracy: 0.0000e+00\n",
            "Epoch 20/100\n",
            "10/10 [==============================] - 0s 8ms/step - loss: 0.0076 - Accuracy: 0.0000e+00 - val_loss: 0.0078 - val_Accuracy: 0.0000e+00\n",
            "Epoch 21/100\n",
            "10/10 [==============================] - 0s 7ms/step - loss: 0.0071 - Accuracy: 0.0000e+00 - val_loss: 0.0069 - val_Accuracy: 0.0000e+00\n",
            "Epoch 22/100\n",
            "10/10 [==============================] - 0s 8ms/step - loss: 0.0064 - Accuracy: 0.0000e+00 - val_loss: 0.0058 - val_Accuracy: 0.0000e+00\n",
            "Epoch 23/100\n",
            "10/10 [==============================] - 0s 7ms/step - loss: 0.0057 - Accuracy: 0.0000e+00 - val_loss: 0.0050 - val_Accuracy: 0.0000e+00\n",
            "Epoch 24/100\n",
            "10/10 [==============================] - 0s 6ms/step - loss: 0.0052 - Accuracy: 0.0000e+00 - val_loss: 0.0045 - val_Accuracy: 0.0000e+00\n",
            "Epoch 25/100\n",
            "10/10 [==============================] - 0s 7ms/step - loss: 0.0051 - Accuracy: 0.0000e+00 - val_loss: 0.0041 - val_Accuracy: 0.0000e+00\n",
            "Epoch 26/100\n",
            "10/10 [==============================] - 0s 6ms/step - loss: 0.0050 - Accuracy: 0.0000e+00 - val_loss: 0.0040 - val_Accuracy: 0.0000e+00\n",
            "Epoch 27/100\n",
            "10/10 [==============================] - 0s 6ms/step - loss: 0.0049 - Accuracy: 0.0000e+00 - val_loss: 0.0039 - val_Accuracy: 0.0000e+00\n",
            "Epoch 28/100\n",
            "10/10 [==============================] - 0s 6ms/step - loss: 0.0048 - Accuracy: 0.0000e+00 - val_loss: 0.0038 - val_Accuracy: 0.0000e+00\n",
            "Epoch 29/100\n",
            "10/10 [==============================] - 0s 6ms/step - loss: 0.0048 - Accuracy: 0.0000e+00 - val_loss: 0.0038 - val_Accuracy: 0.0000e+00\n",
            "Epoch 30/100\n",
            "10/10 [==============================] - 0s 7ms/step - loss: 0.0048 - Accuracy: 0.0000e+00 - val_loss: 0.0037 - val_Accuracy: 0.0000e+00\n",
            "Epoch 31/100\n",
            "10/10 [==============================] - 0s 5ms/step - loss: 0.0047 - Accuracy: 0.0000e+00 - val_loss: 0.0037 - val_Accuracy: 0.0000e+00\n",
            "Epoch 32/100\n",
            "10/10 [==============================] - 0s 5ms/step - loss: 0.0048 - Accuracy: 0.0000e+00 - val_loss: 0.0036 - val_Accuracy: 0.0000e+00\n",
            "Epoch 33/100\n",
            "10/10 [==============================] - 0s 7ms/step - loss: 0.0047 - Accuracy: 0.0000e+00 - val_loss: 0.0036 - val_Accuracy: 0.0000e+00\n",
            "Epoch 34/100\n",
            "10/10 [==============================] - 0s 7ms/step - loss: 0.0047 - Accuracy: 0.0000e+00 - val_loss: 0.0036 - val_Accuracy: 0.0000e+00\n",
            "Epoch 35/100\n",
            "10/10 [==============================] - 0s 7ms/step - loss: 0.0047 - Accuracy: 0.0000e+00 - val_loss: 0.0036 - val_Accuracy: 0.0000e+00\n",
            "Epoch 36/100\n",
            "10/10 [==============================] - 0s 10ms/step - loss: 0.0047 - Accuracy: 0.0000e+00 - val_loss: 0.0035 - val_Accuracy: 0.0000e+00\n",
            "Epoch 37/100\n",
            "10/10 [==============================] - 0s 6ms/step - loss: 0.0046 - Accuracy: 0.0000e+00 - val_loss: 0.0035 - val_Accuracy: 0.0000e+00\n",
            "Epoch 38/100\n",
            "10/10 [==============================] - 0s 5ms/step - loss: 0.0047 - Accuracy: 0.0000e+00 - val_loss: 0.0035 - val_Accuracy: 0.0000e+00\n",
            "Epoch 39/100\n",
            "10/10 [==============================] - 0s 7ms/step - loss: 0.0046 - Accuracy: 0.0000e+00 - val_loss: 0.0035 - val_Accuracy: 0.0000e+00\n",
            "Epoch 40/100\n",
            "10/10 [==============================] - 0s 6ms/step - loss: 0.0046 - Accuracy: 0.0000e+00 - val_loss: 0.0035 - val_Accuracy: 0.0000e+00\n",
            "Epoch 41/100\n",
            "10/10 [==============================] - 0s 6ms/step - loss: 0.0046 - Accuracy: 0.0000e+00 - val_loss: 0.0035 - val_Accuracy: 0.0000e+00\n",
            "Epoch 42/100\n",
            "10/10 [==============================] - 0s 7ms/step - loss: 0.0046 - Accuracy: 0.0000e+00 - val_loss: 0.0035 - val_Accuracy: 0.0000e+00\n",
            "Epoch 43/100\n",
            "10/10 [==============================] - 0s 7ms/step - loss: 0.0046 - Accuracy: 0.0000e+00 - val_loss: 0.0035 - val_Accuracy: 0.0000e+00\n",
            "Epoch 44/100\n",
            "10/10 [==============================] - 0s 6ms/step - loss: 0.0046 - Accuracy: 0.0000e+00 - val_loss: 0.0034 - val_Accuracy: 0.0000e+00\n",
            "Epoch 45/100\n",
            "10/10 [==============================] - 0s 7ms/step - loss: 0.0046 - Accuracy: 0.0000e+00 - val_loss: 0.0035 - val_Accuracy: 0.0000e+00\n",
            "Epoch 46/100\n",
            "10/10 [==============================] - 0s 7ms/step - loss: 0.0046 - Accuracy: 0.0000e+00 - val_loss: 0.0035 - val_Accuracy: 0.0000e+00\n",
            "Epoch 47/100\n",
            "10/10 [==============================] - 0s 7ms/step - loss: 0.0046 - Accuracy: 0.0000e+00 - val_loss: 0.0034 - val_Accuracy: 0.0000e+00\n",
            "Epoch 48/100\n",
            "10/10 [==============================] - 0s 8ms/step - loss: 0.0045 - Accuracy: 0.0000e+00 - val_loss: 0.0034 - val_Accuracy: 0.0000e+00\n",
            "Epoch 49/100\n",
            "10/10 [==============================] - 0s 5ms/step - loss: 0.0045 - Accuracy: 0.0000e+00 - val_loss: 0.0034 - val_Accuracy: 0.0000e+00\n",
            "Epoch 50/100\n",
            "10/10 [==============================] - 0s 7ms/step - loss: 0.0045 - Accuracy: 0.0000e+00 - val_loss: 0.0034 - val_Accuracy: 0.0000e+00\n",
            "Epoch 51/100\n",
            "10/10 [==============================] - 0s 7ms/step - loss: 0.0045 - Accuracy: 0.0000e+00 - val_loss: 0.0034 - val_Accuracy: 0.0000e+00\n",
            "Epoch 52/100\n",
            "10/10 [==============================] - 0s 6ms/step - loss: 0.0045 - Accuracy: 0.0000e+00 - val_loss: 0.0034 - val_Accuracy: 0.0000e+00\n",
            "Epoch 53/100\n",
            "10/10 [==============================] - 0s 7ms/step - loss: 0.0045 - Accuracy: 0.0000e+00 - val_loss: 0.0034 - val_Accuracy: 0.0000e+00\n",
            "Epoch 54/100\n",
            "10/10 [==============================] - 0s 8ms/step - loss: 0.0045 - Accuracy: 0.0000e+00 - val_loss: 0.0034 - val_Accuracy: 0.0000e+00\n",
            "Epoch 55/100\n",
            "10/10 [==============================] - 0s 7ms/step - loss: 0.0045 - Accuracy: 0.0000e+00 - val_loss: 0.0034 - val_Accuracy: 0.0000e+00\n",
            "Epoch 56/100\n",
            "10/10 [==============================] - 0s 5ms/step - loss: 0.0045 - Accuracy: 0.0000e+00 - val_loss: 0.0034 - val_Accuracy: 0.0000e+00\n",
            "Epoch 57/100\n",
            "10/10 [==============================] - 0s 7ms/step - loss: 0.0045 - Accuracy: 0.0000e+00 - val_loss: 0.0034 - val_Accuracy: 0.0000e+00\n",
            "Epoch 58/100\n",
            "10/10 [==============================] - 0s 6ms/step - loss: 0.0045 - Accuracy: 0.0000e+00 - val_loss: 0.0034 - val_Accuracy: 0.0000e+00\n",
            "Epoch 59/100\n",
            "10/10 [==============================] - 0s 5ms/step - loss: 0.0045 - Accuracy: 0.0000e+00 - val_loss: 0.0033 - val_Accuracy: 0.0000e+00\n",
            "Epoch 60/100\n",
            "10/10 [==============================] - 0s 7ms/step - loss: 0.0045 - Accuracy: 0.0000e+00 - val_loss: 0.0034 - val_Accuracy: 0.0000e+00\n",
            "Epoch 61/100\n",
            "10/10 [==============================] - 0s 7ms/step - loss: 0.0045 - Accuracy: 0.0000e+00 - val_loss: 0.0033 - val_Accuracy: 0.0000e+00\n",
            "Epoch 62/100\n",
            "10/10 [==============================] - 0s 6ms/step - loss: 0.0045 - Accuracy: 0.0000e+00 - val_loss: 0.0033 - val_Accuracy: 0.0000e+00\n",
            "Epoch 63/100\n",
            "10/10 [==============================] - 0s 7ms/step - loss: 0.0045 - Accuracy: 0.0000e+00 - val_loss: 0.0033 - val_Accuracy: 0.0000e+00\n",
            "Epoch 64/100\n",
            "10/10 [==============================] - 0s 7ms/step - loss: 0.0044 - Accuracy: 0.0000e+00 - val_loss: 0.0033 - val_Accuracy: 0.0000e+00\n",
            "Epoch 65/100\n",
            "10/10 [==============================] - 0s 8ms/step - loss: 0.0044 - Accuracy: 0.0000e+00 - val_loss: 0.0033 - val_Accuracy: 0.0000e+00\n",
            "Epoch 66/100\n",
            "10/10 [==============================] - 0s 6ms/step - loss: 0.0044 - Accuracy: 0.0000e+00 - val_loss: 0.0033 - val_Accuracy: 0.0000e+00\n",
            "Epoch 67/100\n",
            "10/10 [==============================] - 0s 7ms/step - loss: 0.0045 - Accuracy: 0.0000e+00 - val_loss: 0.0033 - val_Accuracy: 0.0000e+00\n",
            "Epoch 68/100\n",
            "10/10 [==============================] - 0s 7ms/step - loss: 0.0044 - Accuracy: 0.0000e+00 - val_loss: 0.0033 - val_Accuracy: 0.0000e+00\n",
            "Epoch 69/100\n",
            "10/10 [==============================] - 0s 7ms/step - loss: 0.0045 - Accuracy: 0.0000e+00 - val_loss: 0.0033 - val_Accuracy: 0.0000e+00\n",
            "Epoch 70/100\n",
            "10/10 [==============================] - 0s 7ms/step - loss: 0.0044 - Accuracy: 0.0000e+00 - val_loss: 0.0033 - val_Accuracy: 0.0000e+00\n",
            "Epoch 71/100\n",
            "10/10 [==============================] - 0s 6ms/step - loss: 0.0044 - Accuracy: 0.0000e+00 - val_loss: 0.0033 - val_Accuracy: 0.0000e+00\n",
            "Epoch 72/100\n",
            "10/10 [==============================] - 0s 7ms/step - loss: 0.0044 - Accuracy: 0.0000e+00 - val_loss: 0.0033 - val_Accuracy: 0.0000e+00\n",
            "Epoch 73/100\n",
            "10/10 [==============================] - 0s 5ms/step - loss: 0.0044 - Accuracy: 0.0000e+00 - val_loss: 0.0033 - val_Accuracy: 0.0000e+00\n",
            "Epoch 74/100\n",
            "10/10 [==============================] - 0s 6ms/step - loss: 0.0044 - Accuracy: 0.0000e+00 - val_loss: 0.0032 - val_Accuracy: 0.0000e+00\n",
            "Epoch 75/100\n",
            "10/10 [==============================] - 0s 7ms/step - loss: 0.0044 - Accuracy: 0.0000e+00 - val_loss: 0.0033 - val_Accuracy: 0.0000e+00\n",
            "Epoch 76/100\n",
            "10/10 [==============================] - 0s 5ms/step - loss: 0.0044 - Accuracy: 0.0000e+00 - val_loss: 0.0032 - val_Accuracy: 0.0000e+00\n",
            "Epoch 77/100\n",
            "10/10 [==============================] - 0s 7ms/step - loss: 0.0044 - Accuracy: 0.0000e+00 - val_loss: 0.0032 - val_Accuracy: 0.0000e+00\n",
            "Epoch 78/100\n",
            "10/10 [==============================] - 0s 7ms/step - loss: 0.0044 - Accuracy: 0.0000e+00 - val_loss: 0.0033 - val_Accuracy: 0.0000e+00\n",
            "Epoch 79/100\n",
            "10/10 [==============================] - 0s 8ms/step - loss: 0.0044 - Accuracy: 0.0000e+00 - val_loss: 0.0032 - val_Accuracy: 0.0000e+00\n",
            "Epoch 80/100\n",
            "10/10 [==============================] - 0s 5ms/step - loss: 0.0044 - Accuracy: 0.0000e+00 - val_loss: 0.0032 - val_Accuracy: 0.0000e+00\n",
            "Epoch 81/100\n",
            "10/10 [==============================] - 0s 7ms/step - loss: 0.0044 - Accuracy: 0.0000e+00 - val_loss: 0.0032 - val_Accuracy: 0.0000e+00\n",
            "Epoch 82/100\n",
            "10/10 [==============================] - 0s 7ms/step - loss: 0.0044 - Accuracy: 0.0000e+00 - val_loss: 0.0032 - val_Accuracy: 0.0000e+00\n",
            "Epoch 83/100\n",
            "10/10 [==============================] - 0s 5ms/step - loss: 0.0044 - Accuracy: 0.0000e+00 - val_loss: 0.0032 - val_Accuracy: 0.0000e+00\n",
            "Epoch 84/100\n",
            "10/10 [==============================] - 0s 6ms/step - loss: 0.0044 - Accuracy: 0.0000e+00 - val_loss: 0.0033 - val_Accuracy: 0.0000e+00\n",
            "Epoch 85/100\n",
            "10/10 [==============================] - 0s 7ms/step - loss: 0.0043 - Accuracy: 0.0000e+00 - val_loss: 0.0032 - val_Accuracy: 0.0000e+00\n",
            "Epoch 86/100\n",
            "10/10 [==============================] - 0s 7ms/step - loss: 0.0044 - Accuracy: 0.0000e+00 - val_loss: 0.0032 - val_Accuracy: 0.0000e+00\n",
            "Epoch 87/100\n",
            "10/10 [==============================] - 0s 8ms/step - loss: 0.0044 - Accuracy: 0.0000e+00 - val_loss: 0.0032 - val_Accuracy: 0.0000e+00\n",
            "Epoch 88/100\n",
            "10/10 [==============================] - 0s 9ms/step - loss: 0.0043 - Accuracy: 0.0000e+00 - val_loss: 0.0032 - val_Accuracy: 0.0000e+00\n",
            "Epoch 89/100\n",
            "10/10 [==============================] - 0s 10ms/step - loss: 0.0043 - Accuracy: 0.0000e+00 - val_loss: 0.0032 - val_Accuracy: 0.0000e+00\n",
            "Epoch 90/100\n",
            "10/10 [==============================] - 0s 10ms/step - loss: 0.0043 - Accuracy: 0.0000e+00 - val_loss: 0.0032 - val_Accuracy: 0.0000e+00\n",
            "Epoch 91/100\n",
            "10/10 [==============================] - 0s 11ms/step - loss: 0.0043 - Accuracy: 0.0000e+00 - val_loss: 0.0032 - val_Accuracy: 0.0000e+00\n",
            "Epoch 92/100\n",
            "10/10 [==============================] - 0s 11ms/step - loss: 0.0044 - Accuracy: 0.0000e+00 - val_loss: 0.0032 - val_Accuracy: 0.0000e+00\n",
            "Epoch 93/100\n",
            "10/10 [==============================] - 0s 9ms/step - loss: 0.0043 - Accuracy: 0.0000e+00 - val_loss: 0.0032 - val_Accuracy: 0.0000e+00\n",
            "Epoch 94/100\n",
            "10/10 [==============================] - 0s 9ms/step - loss: 0.0043 - Accuracy: 0.0000e+00 - val_loss: 0.0032 - val_Accuracy: 0.0000e+00\n",
            "Epoch 95/100\n",
            "10/10 [==============================] - 0s 10ms/step - loss: 0.0043 - Accuracy: 0.0000e+00 - val_loss: 0.0032 - val_Accuracy: 0.0000e+00\n",
            "Epoch 96/100\n",
            "10/10 [==============================] - 0s 9ms/step - loss: 0.0043 - Accuracy: 0.0000e+00 - val_loss: 0.0032 - val_Accuracy: 0.0000e+00\n",
            "Epoch 97/100\n",
            "10/10 [==============================] - 0s 8ms/step - loss: 0.0043 - Accuracy: 0.0000e+00 - val_loss: 0.0032 - val_Accuracy: 0.0000e+00\n",
            "Epoch 98/100\n",
            "10/10 [==============================] - 0s 9ms/step - loss: 0.0043 - Accuracy: 0.0000e+00 - val_loss: 0.0032 - val_Accuracy: 0.0000e+00\n",
            "Epoch 99/100\n",
            "10/10 [==============================] - 0s 9ms/step - loss: 0.0043 - Accuracy: 0.0000e+00 - val_loss: 0.0031 - val_Accuracy: 0.0000e+00\n",
            "Epoch 100/100\n",
            "10/10 [==============================] - 0s 7ms/step - loss: 0.0043 - Accuracy: 0.0000e+00 - val_loss: 0.0032 - val_Accuracy: 0.0000e+00\n"
          ]
        }
      ]
    },
    {
      "cell_type": "code",
      "source": [
        "y_pred=model.predict(x_test_scaled)"
      ],
      "metadata": {
        "colab": {
          "base_uri": "https://localhost:8080/"
        },
        "id": "qVoUD8pTlRhW",
        "outputId": "5e790cbb-2e63-4868-fb60-157837936919"
      },
      "execution_count": 64,
      "outputs": [
        {
          "output_type": "stream",
          "name": "stdout",
          "text": [
            "4/4 [==============================] - 0s 3ms/step\n"
          ]
        }
      ]
    },
    {
      "cell_type": "code",
      "source": [
        "from sklearn.metrics import r2_score\n",
        "r2_score(y_pred,y_test)"
      ],
      "metadata": {
        "colab": {
          "base_uri": "https://localhost:8080/"
        },
        "id": "OUEt7aqGn0sj",
        "outputId": "1dfe00be-4052-4a5d-fe71-394ed2bcdd5b"
      },
      "execution_count": 65,
      "outputs": [
        {
          "output_type": "execute_result",
          "data": {
            "text/plain": [
              "0.6207128676520612"
            ]
          },
          "metadata": {},
          "execution_count": 65
        }
      ]
    },
    {
      "cell_type": "code",
      "source": [
        "import matplotlib.pyplot as plt\n",
        "plt.plot(history.history[\"loss\"])\n",
        "plt.plot(history.history[\"val_loss\"])"
      ],
      "metadata": {
        "colab": {
          "base_uri": "https://localhost:8080/",
          "height": 447
        },
        "id": "5ekToJSuoCZk",
        "outputId": "588607d5-da54-46ad-b35a-ac916034b1dd"
      },
      "execution_count": 66,
      "outputs": [
        {
          "output_type": "execute_result",
          "data": {
            "text/plain": [
              "[<matplotlib.lines.Line2D at 0x7ae4a41673a0>]"
            ]
          },
          "metadata": {},
          "execution_count": 66
        },
        {
          "output_type": "display_data",
          "data": {
            "text/plain": [
              "<Figure size 640x480 with 1 Axes>"
            ],
            "image/png": "[encoded data removed]"
          },
          "metadata": {}
        }
      ]
    },
    {
      "cell_type": "code",
      "source": [],
      "metadata": {
        "id": "ucS7x5ghg6hZ"
      },
      "execution_count": null,
      "outputs": []
    }
  ]
}