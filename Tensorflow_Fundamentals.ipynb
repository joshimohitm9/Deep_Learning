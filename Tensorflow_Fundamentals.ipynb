{
  "nbformat": 4,
  "nbformat_minor": 0,
  "metadata": {
    "colab": {
      "provenance": [],
      "authorship_tag": "ABX9TyOscnR2vQy3BRmrZ+jFqQ6m",
      "include_colab_link": true
    },
    "kernelspec": {
      "name": "python3",
      "display_name": "Python 3"
    },
    "language_info": {
      "name": "python"
    }
  },
  "cells": [
    {
      "cell_type": "markdown",
      "metadata": {
        "id": "view-in-github",
        "colab_type": "text"
      },
      "source": [
        "<a href=\"https://colab.research.google.com/github/joshimohitm9/Deep_Learning/blob/main/Tensorflow_Fundamentals.ipynb\" target=\"_parent\"><img src=\"https://colab.research.google.com/assets/colab-badge.svg\" alt=\"Open In Colab\"/></a>"
      ]
    },
    {
      "cell_type": "code",
      "execution_count": 1,
      "metadata": {
        "colab": {
          "base_uri": "https://localhost:8080/"
        },
        "id": "GTHwZbtHS6hQ",
        "outputId": "0a108d33-764f-44b6-938c-59c05f50f36b"
      },
      "outputs": [
        {
          "output_type": "stream",
          "name": "stdout",
          "text": [
            "2.15.0\n"
          ]
        }
      ],
      "source": [
        "# importing Library\n",
        "import tensorflow as tf\n",
        "\n",
        "# Checking the version of library\n",
        "print(tf.__version__)"
      ]
    },
    {
      "cell_type": "code",
      "source": [
        "# creating tensors with tf.constant\n",
        "scaler=tf.constant(7)\n",
        "scaler"
      ],
      "metadata": {
        "colab": {
          "base_uri": "https://localhost:8080/"
        },
        "id": "RKvgbBBITGil",
        "outputId": "e9a69a3c-1802-4c23-ddbb-66efbd78fd3a"
      },
      "execution_count": 2,
      "outputs": [
        {
          "output_type": "execute_result",
          "data": {
            "text/plain": [
              "<tf.Tensor: shape=(), dtype=int32, numpy=7>"
            ]
          },
          "metadata": {},
          "execution_count": 2
        }
      ]
    },
    {
      "cell_type": "code",
      "source": [
        "# check the number of dimention of tensor\n",
        "scaler.ndim"
      ],
      "metadata": {
        "colab": {
          "base_uri": "https://localhost:8080/"
        },
        "id": "rLSnNI4XTmfL",
        "outputId": "afb3335d-39ab-4c6f-c426-08417976d2f8"
      },
      "execution_count": 3,
      "outputs": [
        {
          "output_type": "execute_result",
          "data": {
            "text/plain": [
              "0"
            ]
          },
          "metadata": {},
          "execution_count": 3
        }
      ]
    },
    {
      "cell_type": "code",
      "source": [
        "# creating a vector\n",
        "vector=tf.constant([2,2])\n",
        "vector"
      ],
      "metadata": {
        "colab": {
          "base_uri": "https://localhost:8080/"
        },
        "id": "IJvxf7oiT1Oo",
        "outputId": "576fe172-e6f4-42ea-b888-92de2bc2c629"
      },
      "execution_count": 4,
      "outputs": [
        {
          "output_type": "execute_result",
          "data": {
            "text/plain": [
              "<tf.Tensor: shape=(2,), dtype=int32, numpy=array([2, 2], dtype=int32)>"
            ]
          },
          "metadata": {},
          "execution_count": 4
        }
      ]
    },
    {
      "cell_type": "code",
      "source": [
        "# Dimention of Vector\n",
        "vector.ndim"
      ],
      "metadata": {
        "colab": {
          "base_uri": "https://localhost:8080/"
        },
        "id": "_m06usZvT_Dc",
        "outputId": "7d86d148-8256-4417-aa11-f328708e7dec"
      },
      "execution_count": 5,
      "outputs": [
        {
          "output_type": "execute_result",
          "data": {
            "text/plain": [
              "1"
            ]
          },
          "metadata": {},
          "execution_count": 5
        }
      ]
    },
    {
      "cell_type": "code",
      "source": [
        "# creating a matrix\n",
        "matrix=tf.constant([[2,2],[20,20]])\n",
        "matrix"
      ],
      "metadata": {
        "colab": {
          "base_uri": "https://localhost:8080/"
        },
        "id": "ZZieP5-2UW5j",
        "outputId": "e9af95c5-be5b-469a-ada1-7bd7a4bcd93e"
      },
      "execution_count": 6,
      "outputs": [
        {
          "output_type": "execute_result",
          "data": {
            "text/plain": [
              "<tf.Tensor: shape=(2, 2), dtype=int32, numpy=\n",
              "array([[ 2,  2],\n",
              "       [20, 20]], dtype=int32)>"
            ]
          },
          "metadata": {},
          "execution_count": 6
        }
      ]
    },
    {
      "cell_type": "code",
      "source": [
        "# checking the dimention of matrix\n",
        "matrix.ndim"
      ],
      "metadata": {
        "colab": {
          "base_uri": "https://localhost:8080/"
        },
        "id": "oC3uwm6CUwJd",
        "outputId": "795afca5-c334-46bb-a2c9-6daf9fc4a5bb"
      },
      "execution_count": 7,
      "outputs": [
        {
          "output_type": "execute_result",
          "data": {
            "text/plain": [
              "2"
            ]
          },
          "metadata": {},
          "execution_count": 7
        }
      ]
    },
    {
      "cell_type": "code",
      "source": [
        "# creating another matrix\n",
        "another_matrix=tf.constant([[1,1],[2,2],[3,3]],dtype=tf.float64) # using dtype for changing the data type\n",
        "another_matrix"
      ],
      "metadata": {
        "colab": {
          "base_uri": "https://localhost:8080/"
        },
        "id": "4uxbb6o-U4i9",
        "outputId": "0d229cef-cfea-4b9f-f430-dabb61cd06f1"
      },
      "execution_count": 8,
      "outputs": [
        {
          "output_type": "execute_result",
          "data": {
            "text/plain": [
              "<tf.Tensor: shape=(3, 2), dtype=float64, numpy=\n",
              "array([[1., 1.],\n",
              "       [2., 2.],\n",
              "       [3., 3.]])>"
            ]
          },
          "metadata": {},
          "execution_count": 8
        }
      ]
    },
    {
      "cell_type": "code",
      "source": [
        "#checking the dimnection of matrix\n",
        "another_matrix.ndim"
      ],
      "metadata": {
        "colab": {
          "base_uri": "https://localhost:8080/"
        },
        "id": "VOWdWjY_V8JJ",
        "outputId": "69a76483-56f9-45a3-99a3-c0ef3dd94a05"
      },
      "execution_count": 9,
      "outputs": [
        {
          "output_type": "execute_result",
          "data": {
            "text/plain": [
              "2"
            ]
          },
          "metadata": {},
          "execution_count": 9
        }
      ]
    },
    {
      "cell_type": "code",
      "source": [
        "# lets create a tensor with 3 dimention\n",
        "tensor=tf.constant([[[1,2,3],[1,2,3]],\n",
        "                   [[2,3,4],[2,3,4]],\n",
        "                    [[3,4,5],[3,4,5]]])\n",
        "tensor"
      ],
      "metadata": {
        "colab": {
          "base_uri": "https://localhost:8080/"
        },
        "id": "82ghJIy8XRSW",
        "outputId": "e193a84b-d128-4635-b23b-f4cb093ebdab"
      },
      "execution_count": 10,
      "outputs": [
        {
          "output_type": "execute_result",
          "data": {
            "text/plain": [
              "<tf.Tensor: shape=(3, 2, 3), dtype=int32, numpy=\n",
              "array([[[1, 2, 3],\n",
              "        [1, 2, 3]],\n",
              "\n",
              "       [[2, 3, 4],\n",
              "        [2, 3, 4]],\n",
              "\n",
              "       [[3, 4, 5],\n",
              "        [3, 4, 5]]], dtype=int32)>"
            ]
          },
          "metadata": {},
          "execution_count": 10
        }
      ]
    },
    {
      "cell_type": "code",
      "source": [
        "# checking the dimention of tensor\n",
        "tensor.ndim"
      ],
      "metadata": {
        "colab": {
          "base_uri": "https://localhost:8080/"
        },
        "id": "ZncTJ7Pna9Mn",
        "outputId": "1d418103-bddc-4c0b-a177-2a763d8fcdca"
      },
      "execution_count": 11,
      "outputs": [
        {
          "output_type": "execute_result",
          "data": {
            "text/plain": [
              "3"
            ]
          },
          "metadata": {},
          "execution_count": 11
        }
      ]
    },
    {
      "cell_type": "markdown",
      "source": [
        "* Scaler : are Single Number\n",
        "* Vector : a number with direction(eg. wind and direction)\n",
        "* Matrix : 2d array\n",
        "* Tensor : n dimentional array of number (where n can be any number)"
      ],
      "metadata": {
        "id": "efz2XSe2eKK7"
      }
    },
    {
      "cell_type": "markdown",
      "source": [
        "Creating Tensor using tf.variable"
      ],
      "metadata": {
        "id": "qhvtAuh_e0q_"
      }
    },
    {
      "cell_type": "code",
      "source": [
        "# using tf.varibale we can create changeable tensors whose values can be change\n",
        "changeable_tensor=tf.Variable([20,7])\n",
        "\n",
        "# using tf.constant we cant change the value of tensors\n",
        "unchangeable_tensor=tf.constant([20,7])"
      ],
      "metadata": {
        "id": "0ibCPFJBbI56"
      },
      "execution_count": 12,
      "outputs": []
    },
    {
      "cell_type": "code",
      "source": [
        "changeable_tensor ,unchangeable_tensor"
      ],
      "metadata": {
        "colab": {
          "base_uri": "https://localhost:8080/"
        },
        "id": "Pm6e-jychbYL",
        "outputId": "cf56e985-9562-4367-a2c9-18b86da31c34"
      },
      "execution_count": 13,
      "outputs": [
        {
          "output_type": "execute_result",
          "data": {
            "text/plain": [
              "(<tf.Variable 'Variable:0' shape=(2,) dtype=int32, numpy=array([20,  7], dtype=int32)>,\n",
              " <tf.Tensor: shape=(2,), dtype=int32, numpy=array([20,  7], dtype=int32)>)"
            ]
          },
          "metadata": {},
          "execution_count": 13
        }
      ]
    },
    {
      "cell_type": "code",
      "source": [
        "# lets change the value of changeable tesor\n",
        "changeable_tensor[0].assign(7)\n",
        "changeable_tensor"
      ],
      "metadata": {
        "colab": {
          "base_uri": "https://localhost:8080/"
        },
        "id": "MBeXxmQpk0tg",
        "outputId": "cf8b637d-29eb-4cc8-b5e9-978d4a760333"
      },
      "execution_count": 14,
      "outputs": [
        {
          "output_type": "execute_result",
          "data": {
            "text/plain": [
              "<tf.Variable 'Variable:0' shape=(2,) dtype=int32, numpy=array([7, 7], dtype=int32)>"
            ]
          },
          "metadata": {},
          "execution_count": 14
        }
      ]
    },
    {
      "cell_type": "code",
      "source": [
        "# lets try to  change the value of unchangeable tesor\n",
        "try:\n",
        "  unchangeable_tensor[0].assign(7)\n",
        "  unchangeable_tensor\n",
        "except:\n",
        "  print(\"not possible\")\n"
      ],
      "metadata": {
        "colab": {
          "base_uri": "https://localhost:8080/"
        },
        "id": "7CyXFnIVk-ZB",
        "outputId": "d48c48cf-afd5-4d3b-8cb9-8906d704a8b9"
      },
      "execution_count": 15,
      "outputs": [
        {
          "output_type": "stream",
          "name": "stdout",
          "text": [
            "not possible\n"
          ]
        }
      ]
    },
    {
      "cell_type": "code",
      "source": [
        "# crating tensor using numpy\n",
        "import numpy as np\n",
        "a=np.arange(1,25)\n",
        "print(\"this is a numpy array \")\n",
        "print(a)\n",
        "print(87*\"-\")\n",
        "print(\"this is a tensor\")\n",
        "tf.constant(a)"
      ],
      "metadata": {
        "id": "VDiBz7X7lcFf",
        "colab": {
          "base_uri": "https://localhost:8080/"
        },
        "outputId": "ff1488f4-152d-4325-a9f2-1b46f09aa140"
      },
      "execution_count": 24,
      "outputs": [
        {
          "output_type": "stream",
          "name": "stdout",
          "text": [
            "this is a numpy array \n",
            "[ 1  2  3  4  5  6  7  8  9 10 11 12 13 14 15 16 17 18 19 20 21 22 23 24]\n",
            "---------------------------------------------------------------------------------------\n",
            "this is a tensor\n"
          ]
        },
        {
          "output_type": "execute_result",
          "data": {
            "text/plain": [
              "<tf.Tensor: shape=(24,), dtype=int64, numpy=\n",
              "array([ 1,  2,  3,  4,  5,  6,  7,  8,  9, 10, 11, 12, 13, 14, 15, 16, 17,\n",
              "       18, 19, 20, 21, 22, 23, 24])>"
            ]
          },
          "metadata": {},
          "execution_count": 24
        }
      ]
    },
    {
      "cell_type": "code",
      "source": [],
      "metadata": {
        "id": "18XuzeKBzDTe"
      },
      "execution_count": null,
      "outputs": []
    }
  ]
}